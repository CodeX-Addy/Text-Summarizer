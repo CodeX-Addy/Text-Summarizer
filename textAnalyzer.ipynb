{
  "nbformat": 4,
  "nbformat_minor": 0,
  "metadata": {
    "colab": {
      "provenance": [],
      "mount_file_id": "136BVve5I4PTg--P1jYP_b9jM6WOtAnr3",
      "authorship_tag": "ABX9TyO4Rafm9dIXdVAgPVnA1JJu",
      "include_colab_link": true
    },
    "kernelspec": {
      "name": "python3",
      "display_name": "Python 3"
    },
    "language_info": {
      "name": "python"
    }
  },
  "cells": [
    {
      "cell_type": "markdown",
      "metadata": {
        "id": "view-in-github",
        "colab_type": "text"
      },
      "source": [
        "<a href=\"https://colab.research.google.com/github/CodeX-Addy/Text-Summarizer/blob/main/textAnalyzer.ipynb\" target=\"_parent\"><img src=\"https://colab.research.google.com/assets/colab-badge.svg\" alt=\"Open In Colab\"/></a>"
      ]
    },
    {
      "cell_type": "code",
      "source": [
        "import string\n",
        "from collections import Counter\n",
        "\n",
        "def analyze_text(text):\n",
        "    # Remove punctuation and convert text to lowercase\n",
        "    text = text.translate(str.maketrans('', '', string.punctuation)).lower()\n",
        "\n",
        "    # Calculate word count\n",
        "    words = text.split()\n",
        "    word_count = len(words)\n",
        "\n",
        "    # Calculate sentence count\n",
        "    sentences = text.split('. ')\n",
        "    sentence_count = len(sentences)\n",
        "\n",
        "    # Calculate average word length\n",
        "    total_word_length = sum(len(word) for word in words)\n",
        "    average_word_length = total_word_length / word_count if word_count > 0 else 0\n",
        "\n",
        "    # Calculate word frequency\n",
        "    word_frequency = Counter(words)\n",
        "\n",
        "    return {\n",
        "        'word_count': word_count,\n",
        "        'sentence_count': sentence_count,\n",
        "        'average_word_length': average_word_length,\n",
        "        'word_frequency': word_frequency\n",
        "    }\n",
        "\n",
        "# Example usage\n",
        "text = \"This is a sample text. It contains multiple sentences.\"\n",
        "result = analyze_text(text)\n",
        "print(\"Word Count:\", result['word_count'])\n",
        "print(\"Sentence Count:\", result['sentence_count'])\n",
        "print(\"Average Word Length:\", result['average_word_length'])\n",
        "print(\"Word Frequency:\", result['word_frequency'])\n"
      ],
      "metadata": {
        "colab": {
          "base_uri": "https://localhost:8080/"
        },
        "id": "R3WWpNpT6OF_",
        "outputId": "cf51f0f8-fa6f-4c1e-fd04-b38dd5b619c7"
      },
      "execution_count": 1,
      "outputs": [
        {
          "output_type": "stream",
          "name": "stdout",
          "text": [
            "Word Count: 9\n",
            "Sentence Count: 1\n",
            "Average Word Length: 4.888888888888889\n",
            "Word Frequency: Counter({'this': 1, 'is': 1, 'a': 1, 'sample': 1, 'text': 1, 'it': 1, 'contains': 1, 'multiple': 1, 'sentences': 1})\n"
          ]
        }
      ]
    }
  ]
}
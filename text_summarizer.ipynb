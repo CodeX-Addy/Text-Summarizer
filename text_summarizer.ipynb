{
  "nbformat": 4,
  "nbformat_minor": 0,
  "metadata": {
    "colab": {
      "provenance": [],
      "include_colab_link": true
    },
    "kernelspec": {
      "name": "python3",
      "display_name": "Python 3"
    },
    "language_info": {
      "name": "python"
    },
    "accelerator": "GPU",
    "gpuClass": "standard"
  },
  "cells": [
    {
      "cell_type": "markdown",
      "metadata": {
        "id": "view-in-github",
        "colab_type": "text"
      },
      "source": [
        "<a href=\"https://colab.research.google.com/github/CodeX-Addy/Text-Summarizer/blob/main/text_summarizer.ipynb\" target=\"_parent\"><img src=\"https://colab.research.google.com/assets/colab-badge.svg\" alt=\"Open In Colab\"/></a>"
      ]
    },
    {
      "cell_type": "markdown",
      "source": [
        "Text Cleaning\n"
      ],
      "metadata": {
        "id": "IZdEPctx8HQl"
      }
    },
    {
      "cell_type": "code",
      "source": [
        "text=input()"
      ],
      "metadata": {
        "id": "ng7WlNSuWzua"
      },
      "execution_count": null,
      "outputs": []
    },
    {
      "cell_type": "code",
      "source": [
        "# Summarizer Approach 1\n",
        "!pip install -U spacy\n",
        "!python -m spacy download en_core_web_sm\n",
        "\n",
        "# Summarizer Approach 2\n",
        "!pip install gradio\n",
        "!!pip install transformers\n",
        "\n",
        "# Rephrasor \n",
        "!pip install requests\n",
        "!pip install cloudscraper"
      ],
      "metadata": {
        "id": "RygTo0AW52wI"
      },
      "execution_count": null,
      "outputs": []
    },
    {
      "cell_type": "code",
      "source": [
        "import spacy \n",
        "import string\n",
        "from spacy.lang.en.stop_words import STOP_WORDS\n",
        "from string import punctuation\n",
        "\n",
        "import transformers\n",
        "from transformers import pipeline\n",
        "import gradio as gr"
      ],
      "metadata": {
        "id": "NmSpetwN52XW"
      },
      "execution_count": null,
      "outputs": []
    },
    {
      "cell_type": "code",
      "source": [
        "summarizer=pipeline(task='summarization')\n",
        "summarizer"
      ],
      "metadata": {
        "id": "pDXK5-7_-opB"
      },
      "execution_count": null,
      "outputs": []
    },
    {
      "cell_type": "code",
      "source": [
        "from spacy.lang.en.stop_words import STOP_WORDS\n",
        "from string import punctuation\n",
        "stopwords = list(STOP_WORDS)\n",
        "nlp = spacy.load('en_core_web_sm')\n",
        "doc = nlp(text)"
      ],
      "metadata": {
        "id": "7Ry0vpv252NM"
      },
      "execution_count": null,
      "outputs": []
    },
    {
      "cell_type": "code",
      "source": [
        "tokens = [token.text for token in doc]\n",
        "print(tokens)"
      ],
      "metadata": {
        "colab": {
          "base_uri": "https://localhost:8080/"
        },
        "id": "DGHk-VW3XTEi",
        "outputId": "65973733-8d57-4a01-bfbd-f5cd1369d5ae"
      },
      "execution_count": null,
      "outputs": [
        {
          "output_type": "stream",
          "name": "stdout",
          "text": [
            "['A', 'brain', 'tumor', 'occurs', 'when', 'abnormal', 'cells', 'form', 'within', 'the', 'brain.[2', ']', 'There', 'are', 'two', 'main', 'types', 'of', 'tumors', ':', 'malignant', 'tumors', 'and', 'benign', '(', 'non', '-', 'cancerous', ')', 'tumors.[2', ']', 'These', 'can', 'be', 'further', 'classified', 'as', 'primary', 'tumors', ',', 'which', 'start', 'within', 'the', 'brain', ',', 'and', 'secondary', 'tumors', ',', 'which', 'most', 'commonly', 'have', 'spread', 'from', 'tumors', 'located', 'outside', 'the', 'brain', ',', 'known', 'as', 'brain', 'metastasis', 'tumors.[1', ']', 'All', 'types', 'of', 'brain', 'tumors', 'may', 'produce', 'symptoms', 'that', 'vary', 'depending', 'on', 'the', 'size', 'of', 'the', 'tumor', 'and', 'the', 'part', 'of', 'the', 'brain', 'that', 'is', 'involved.[2', ']', 'Where', 'symptoms', 'exist', ',', 'they', 'may', 'include', 'headaches', ',', 'seizures', ',', 'problems', 'with', 'vision', ',', 'vomiting', 'and', 'mental', 'changes.[1][2][7', ']', 'Other', 'symptoms', 'may', 'include', 'difficulty', 'walking', ',', 'speaking', ',', 'with', 'sensations', ',', 'or', 'unconsciousness', '.']\n"
          ]
        }
      ]
    },
    {
      "cell_type": "code",
      "source": [
        "punctuation = punctuation + '\\n'\n",
        "punctuation"
      ],
      "metadata": {
        "colab": {
          "base_uri": "https://localhost:8080/",
          "height": 35
        },
        "id": "ngSv-jPGXYK2",
        "outputId": "538bb8f3-1233-47c0-b1d2-92f6a457b771"
      },
      "execution_count": null,
      "outputs": [
        {
          "output_type": "execute_result",
          "data": {
            "text/plain": [
              "'!\"#$%&\\'()*+,-./:;<=>?@[\\\\]^_`{|}~\\n'"
            ],
            "application/vnd.google.colaboratory.intrinsic+json": {
              "type": "string"
            }
          },
          "metadata": {},
          "execution_count": 39
        }
      ]
    },
    {
      "cell_type": "code",
      "source": [
        "frequency = {}  # dict: keys,vals\n",
        "\n",
        "for word in doc:\n",
        "    if word.text.lower() not in stopwords:\n",
        "        if word.text.lower() not in punctuation:\n",
        "            if word.text not in frequency.keys():\n",
        "                frequency[word.text] = 1\n",
        "            else:\n",
        "                frequency[word.text] +=1"
      ],
      "metadata": {
        "id": "xhastEWIXbXC"
      },
      "execution_count": null,
      "outputs": []
    },
    {
      "cell_type": "code",
      "source": [
        "frequency"
      ],
      "metadata": {
        "colab": {
          "base_uri": "https://localhost:8080/"
        },
        "id": "24cazGszXd6K",
        "outputId": "be572295-2057-4767-9862-2fde6ee702c3"
      },
      "execution_count": null,
      "outputs": [
        {
          "output_type": "execute_result",
          "data": {
            "text/plain": [
              "{'brain': 6,\n",
              " 'tumor': 2,\n",
              " 'occurs': 1,\n",
              " 'abnormal': 1,\n",
              " 'cells': 1,\n",
              " 'form': 1,\n",
              " 'brain.[2': 1,\n",
              " 'main': 1,\n",
              " 'types': 2,\n",
              " 'tumors': 6,\n",
              " 'malignant': 1,\n",
              " 'benign': 1,\n",
              " 'non': 1,\n",
              " 'cancerous': 1,\n",
              " 'tumors.[2': 1,\n",
              " 'classified': 1,\n",
              " 'primary': 1,\n",
              " 'start': 1,\n",
              " 'secondary': 1,\n",
              " 'commonly': 1,\n",
              " 'spread': 1,\n",
              " 'located': 1,\n",
              " 'outside': 1,\n",
              " 'known': 1,\n",
              " 'metastasis': 1,\n",
              " 'tumors.[1': 1,\n",
              " 'produce': 1,\n",
              " 'symptoms': 3,\n",
              " 'vary': 1,\n",
              " 'depending': 1,\n",
              " 'size': 1,\n",
              " 'involved.[2': 1,\n",
              " 'exist': 1,\n",
              " 'include': 2,\n",
              " 'headaches': 1,\n",
              " 'seizures': 1,\n",
              " 'problems': 1,\n",
              " 'vision': 1,\n",
              " 'vomiting': 1,\n",
              " 'mental': 1,\n",
              " 'changes.[1][2][7': 1,\n",
              " 'difficulty': 1,\n",
              " 'walking': 1,\n",
              " 'speaking': 1,\n",
              " 'sensations': 1,\n",
              " 'unconsciousness': 1}"
            ]
          },
          "metadata": {},
          "execution_count": 41
        }
      ]
    },
    {
      "cell_type": "code",
      "source": [
        "# max frequency count\n",
        "max_frequency = max(frequency.values())\n",
        "max_frequency"
      ],
      "metadata": {
        "colab": {
          "base_uri": "https://localhost:8080/"
        },
        "id": "HwMMnmQ6Y_cF",
        "outputId": "348fb6a2-0d89-47e7-bc9c-e2d891097c67"
      },
      "execution_count": null,
      "outputs": [
        {
          "output_type": "execute_result",
          "data": {
            "text/plain": [
              "6"
            ]
          },
          "metadata": {},
          "execution_count": 42
        }
      ]
    },
    {
      "cell_type": "code",
      "source": [
        "for word in frequency.keys():\n",
        "  frequency[word] = frequency[word]/max_frequency\n",
        "\n",
        "frequency"
      ],
      "metadata": {
        "colab": {
          "base_uri": "https://localhost:8080/"
        },
        "id": "sd-SEHnHcUqg",
        "outputId": "2bcb347b-7628-4e9e-d109-c06450376215"
      },
      "execution_count": null,
      "outputs": [
        {
          "output_type": "execute_result",
          "data": {
            "text/plain": [
              "{'brain': 1.0,\n",
              " 'tumor': 0.3333333333333333,\n",
              " 'occurs': 0.16666666666666666,\n",
              " 'abnormal': 0.16666666666666666,\n",
              " 'cells': 0.16666666666666666,\n",
              " 'form': 0.16666666666666666,\n",
              " 'brain.[2': 0.16666666666666666,\n",
              " 'main': 0.16666666666666666,\n",
              " 'types': 0.3333333333333333,\n",
              " 'tumors': 1.0,\n",
              " 'malignant': 0.16666666666666666,\n",
              " 'benign': 0.16666666666666666,\n",
              " 'non': 0.16666666666666666,\n",
              " 'cancerous': 0.16666666666666666,\n",
              " 'tumors.[2': 0.16666666666666666,\n",
              " 'classified': 0.16666666666666666,\n",
              " 'primary': 0.16666666666666666,\n",
              " 'start': 0.16666666666666666,\n",
              " 'secondary': 0.16666666666666666,\n",
              " 'commonly': 0.16666666666666666,\n",
              " 'spread': 0.16666666666666666,\n",
              " 'located': 0.16666666666666666,\n",
              " 'outside': 0.16666666666666666,\n",
              " 'known': 0.16666666666666666,\n",
              " 'metastasis': 0.16666666666666666,\n",
              " 'tumors.[1': 0.16666666666666666,\n",
              " 'produce': 0.16666666666666666,\n",
              " 'symptoms': 0.5,\n",
              " 'vary': 0.16666666666666666,\n",
              " 'depending': 0.16666666666666666,\n",
              " 'size': 0.16666666666666666,\n",
              " 'involved.[2': 0.16666666666666666,\n",
              " 'exist': 0.16666666666666666,\n",
              " 'include': 0.3333333333333333,\n",
              " 'headaches': 0.16666666666666666,\n",
              " 'seizures': 0.16666666666666666,\n",
              " 'problems': 0.16666666666666666,\n",
              " 'vision': 0.16666666666666666,\n",
              " 'vomiting': 0.16666666666666666,\n",
              " 'mental': 0.16666666666666666,\n",
              " 'changes.[1][2][7': 0.16666666666666666,\n",
              " 'difficulty': 0.16666666666666666,\n",
              " 'walking': 0.16666666666666666,\n",
              " 'speaking': 0.16666666666666666,\n",
              " 'sensations': 0.16666666666666666,\n",
              " 'unconsciousness': 0.16666666666666666}"
            ]
          },
          "metadata": {},
          "execution_count": 43
        }
      ]
    },
    {
      "cell_type": "code",
      "source": [
        "#Sentences in the document.\n",
        "sentences = [sent for sent in doc.sents]\n",
        "sentences"
      ],
      "metadata": {
        "colab": {
          "base_uri": "https://localhost:8080/"
        },
        "id": "snSc2lftcXeL",
        "outputId": "eab4e53e-6472-415e-ba26-f6d504ba9976"
      },
      "execution_count": null,
      "outputs": [
        {
          "output_type": "execute_result",
          "data": {
            "text/plain": [
              "[A brain tumor occurs when abnormal cells form within the brain.[2] There are two main types of tumors: malignant tumors and benign (non-cancerous) tumors.[2],\n",
              " These can be further classified as primary tumors, which start within the brain, and secondary tumors, which most commonly have spread from tumors located outside the brain, known as brain metastasis tumors.[1] All types of brain tumors may produce symptoms that vary depending on the size of the tumor and the part of the brain that is involved.[2] Where symptoms exist, they may include headaches, seizures, problems with vision, vomiting and mental changes.[1][2][7],\n",
              " Other symptoms may include difficulty walking, speaking, with sensations, or unconsciousness.]"
            ]
          },
          "metadata": {},
          "execution_count": 44
        }
      ]
    },
    {
      "cell_type": "code",
      "source": [
        "sentence_scores = {}\n",
        "for sent in sentences:\n",
        "  for word in sent:\n",
        "    if word.text.lower() in frequency.keys():\n",
        "      if sent not in sentence_scores.keys():\n",
        "        sentence_scores[sent] = frequency[word.text.lower()]\n",
        "      else:\n",
        "        sentence_scores[sent] += frequency[word.text.lower()]"
      ],
      "metadata": {
        "id": "kVJLkMYrfuFk"
      },
      "execution_count": null,
      "outputs": []
    },
    {
      "cell_type": "code",
      "source": [
        "sentence_scores"
      ],
      "metadata": {
        "id": "nPlnx0uYnh-c",
        "colab": {
          "base_uri": "https://localhost:8080/"
        },
        "outputId": "3bb9ba78-44d3-48fb-8f1a-9b68b96622e0"
      },
      "execution_count": null,
      "outputs": [
        {
          "output_type": "execute_result",
          "data": {
            "text/plain": [
              "{A brain tumor occurs when abnormal cells form within the brain.[2] There are two main types of tumors: malignant tumors and benign (non-cancerous) tumors.[2]: 5.500000000000001,\n",
              " These can be further classified as primary tumors, which start within the brain, and secondary tumors, which most commonly have spread from tumors located outside the brain, known as brain metastasis tumors.[1] All types of brain tumors may produce symptoms that vary depending on the size of the tumor and the part of the brain that is involved.[2] Where symptoms exist, they may include headaches, seizures, problems with vision, vomiting and mental changes.[1][2][7]: 14.999999999999995,\n",
              " Other symptoms may include difficulty walking, speaking, with sensations, or unconsciousness.: 1.6666666666666667}"
            ]
          },
          "metadata": {},
          "execution_count": 47
        }
      ]
    },
    {
      "cell_type": "code",
      "source": [
        "from heapq import nlargest #To find the largest items in a collection, "
      ],
      "metadata": {
        "id": "8Ojh4Kj5rN47"
      },
      "execution_count": null,
      "outputs": []
    },
    {
      "cell_type": "code",
      "source": [
        "select_length = int(len(sentences)*0.5)\n",
        "select_length"
      ],
      "metadata": {
        "colab": {
          "base_uri": "https://localhost:8080/"
        },
        "id": "6G42l_QPrfU_",
        "outputId": "2e178ba4-5d95-47d0-ea10-a6084c2899a8"
      },
      "execution_count": null,
      "outputs": [
        {
          "output_type": "execute_result",
          "data": {
            "text/plain": [
              "1"
            ]
          },
          "metadata": {},
          "execution_count": 51
        }
      ]
    },
    {
      "cell_type": "code",
      "source": [
        "summary = nlargest(select_length, sentence_scores, key = sentence_scores.get)\n",
        "summary"
      ],
      "metadata": {
        "colab": {
          "base_uri": "https://localhost:8080/"
        },
        "id": "yRCoK088sKVh",
        "outputId": "d076a8a8-59e7-4ecc-c44d-c01b57a6d24d"
      },
      "execution_count": null,
      "outputs": [
        {
          "output_type": "execute_result",
          "data": {
            "text/plain": [
              "[These can be further classified as primary tumors, which start within the brain, and secondary tumors, which most commonly have spread from tumors located outside the brain, known as brain metastasis tumors.[1] All types of brain tumors may produce symptoms that vary depending on the size of the tumor and the part of the brain that is involved.[2] Where symptoms exist, they may include headaches, seizures, problems with vision, vomiting and mental changes.[1][2][7]]"
            ]
          },
          "metadata": {},
          "execution_count": 53
        }
      ]
    },
    {
      "cell_type": "code",
      "source": [
        "final_summary = [word.text for word in summary]"
      ],
      "metadata": {
        "id": "HRof2M59sT02"
      },
      "execution_count": null,
      "outputs": []
    },
    {
      "cell_type": "markdown",
      "source": [
        "# USING GRADIO"
      ],
      "metadata": {
        "id": "Acrsz-G1-tjy"
      }
    },
    {
      "cell_type": "code",
      "source": [
        "result=summarizer(text,max_length=350, min_length=150, do_sample=False)\n",
        "result"
      ],
      "metadata": {
        "id": "LHOziu37-zZG"
      },
      "execution_count": null,
      "outputs": []
    },
    {
      "cell_type": "markdown",
      "source": [
        "# REPHRASOR"
      ],
      "metadata": {
        "id": "7dq6Ti8rBHTn"
      }
    },
    {
      "cell_type": "code",
      "source": [
        "!pip install requests\n",
        "!pip install cloudscraper"
      ],
      "metadata": {
        "colab": {
          "base_uri": "https://localhost:8080/"
        },
        "id": "FePHwTk1BEns",
        "outputId": "ac59a85a-5ed6-4e96-fa55-083323c9c141"
      },
      "execution_count": null,
      "outputs": [
        {
          "output_type": "stream",
          "name": "stdout",
          "text": [
            "Looking in indexes: https://pypi.org/simple, https://us-python.pkg.dev/colab-wheels/public/simple/\n",
            "Requirement already satisfied: requests in /usr/local/lib/python3.7/dist-packages (2.23.0)\n",
            "Requirement already satisfied: certifi>=2017.4.17 in /usr/local/lib/python3.7/dist-packages (from requests) (2022.9.24)\n",
            "Requirement already satisfied: urllib3!=1.25.0,!=1.25.1,<1.26,>=1.21.1 in /usr/local/lib/python3.7/dist-packages (from requests) (1.24.3)\n",
            "Requirement already satisfied: chardet<4,>=3.0.2 in /usr/local/lib/python3.7/dist-packages (from requests) (3.0.4)\n",
            "Requirement already satisfied: idna<3,>=2.5 in /usr/local/lib/python3.7/dist-packages (from requests) (2.10)\n",
            "Looking in indexes: https://pypi.org/simple, https://us-python.pkg.dev/colab-wheels/public/simple/\n",
            "Collecting cloudscraper\n",
            "  Downloading cloudscraper-1.2.64-py2.py3-none-any.whl (97 kB)\n",
            "\u001b[K     |████████████████████████████████| 97 kB 2.9 MB/s \n",
            "\u001b[?25hRequirement already satisfied: requests>=2.9.2 in /usr/local/lib/python3.7/dist-packages (from cloudscraper) (2.23.0)\n",
            "Collecting requests-toolbelt>=0.9.1\n",
            "  Downloading requests_toolbelt-0.10.0-py2.py3-none-any.whl (54 kB)\n",
            "\u001b[K     |████████████████████████████████| 54 kB 2.3 MB/s \n",
            "\u001b[?25hRequirement already satisfied: pyparsing>=2.4.7 in /usr/local/lib/python3.7/dist-packages (from cloudscraper) (3.0.9)\n",
            "Requirement already satisfied: idna<3,>=2.5 in /usr/local/lib/python3.7/dist-packages (from requests>=2.9.2->cloudscraper) (2.10)\n",
            "Requirement already satisfied: chardet<4,>=3.0.2 in /usr/local/lib/python3.7/dist-packages (from requests>=2.9.2->cloudscraper) (3.0.4)\n",
            "Requirement already satisfied: certifi>=2017.4.17 in /usr/local/lib/python3.7/dist-packages (from requests>=2.9.2->cloudscraper) (2022.9.24)\n",
            "Requirement already satisfied: urllib3!=1.25.0,!=1.25.1,<1.26,>=1.21.1 in /usr/local/lib/python3.7/dist-packages (from requests>=2.9.2->cloudscraper) (1.24.3)\n",
            "Installing collected packages: requests-toolbelt, cloudscraper\n",
            "Successfully installed cloudscraper-1.2.64 requests-toolbelt-0.10.0\n"
          ]
        }
      ]
    },
    {
      "cell_type": "code",
      "source": [
        "from gingerit import GingerIt\n",
        "\n",
        "text = input(\"Enter a sentence >>: \")\n",
        "\n",
        "corrected_text = GingerIt().parse(text)\n"
      ],
      "metadata": {
        "colab": {
          "base_uri": "https://localhost:8080/"
        },
        "id": "C4IMI_jJBTkn",
        "outputId": "2ef48b2c-7483-4b04-a6cc-a2fe7ead5afb"
      },
      "execution_count": null,
      "outputs": [
        {
          "name": "stdout",
          "output_type": "stream",
          "text": [
            "Enter a sentence >>: gTTS (Google Text-to-Speech), a Python library and CLI tool to interface with Google Translate’s text-to-speech API. Write spoken mp3 data to a file, a file-like object (bytestring) for further audio manipulation, or stdout. Or simply pre-generate Google Translate TTS request URLs to feed to an external program. http://gtts.readthedocs.org/\n"
          ]
        }
      ]
    },
    {
      "cell_type": "code",
      "source": [
        "corrected_text['result']"
      ],
      "metadata": {
        "colab": {
          "base_uri": "https://localhost:8080/",
          "height": 70
        },
        "id": "6O4v05owEexm",
        "outputId": "164f6cc4-c208-4dd5-97cc-cee55030ede5"
      },
      "execution_count": null,
      "outputs": [
        {
          "output_type": "execute_result",
          "data": {
            "text/plain": [
              "'Guts (Google Text-to-Speech), a Python library and CLI tool to interface with Google Translate’s text-to-speech API. Write spoken mp3 data to a file, a file-like object (byte string) for further audio manipulation, or stdout. Or simply pre-generate Google Translate TTS request URLs to feed to an external program. http://gtts.readthedocs.org/'"
            ],
            "application/vnd.google.colaboratory.intrinsic+json": {
              "type": "string"
            }
          },
          "metadata": {},
          "execution_count": 4
        }
      ]
    }
  ]
}